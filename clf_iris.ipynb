{
 "cells": [
  {
   "cell_type": "markdown",
   "id": "8030d3be-b8cb-41df-8e1c-67daa7f1088a",
   "metadata": {},
   "source": [
    "# Imports"
   ]
  },
  {
   "cell_type": "code",
   "execution_count": 1,
   "id": "cd297a00-871c-4cc7-8304-5d7dbef1624f",
   "metadata": {},
   "outputs": [],
   "source": [
    "import torch\n",
    "import torch.nn as nn\n",
    "import torch.optim as optim\n",
    "from torch.utils.data import DataLoader, TensorDataset\n",
    "from torchmetrics.classification import Accuracy\n",
    "\n",
    "import pandas as pd\n",
    "from sklearn.datasets import load_iris\n",
    "from sklearn.model_selection import train_test_split, KFold\n",
    "import matplotlib.pyplot as plt"
   ]
  },
  {
   "cell_type": "markdown",
   "id": "e9874c4e-735c-45e4-a4df-c225038e189a",
   "metadata": {},
   "source": [
    "# Load Iris Dataset from scikit-learn"
   ]
  },
  {
   "cell_type": "code",
   "execution_count": 2,
   "id": "27d0077d-5bba-4c24-80eb-c77b2f23155c",
   "metadata": {},
   "outputs": [],
   "source": [
    "X, y = load_iris(return_X_y=True, as_frame=True)"
   ]
  },
  {
   "cell_type": "markdown",
   "id": "291b0da9-f684-4270-b5a5-0898d7c782cb",
   "metadata": {},
   "source": [
    "# Splitting Data"
   ]
  },
  {
   "cell_type": "code",
   "execution_count": 3,
   "id": "8f90f6aa-6c06-4aa1-9aee-821deafc7273",
   "metadata": {},
   "outputs": [
    {
     "name": "stdout",
     "output_type": "stream",
     "text": [
      "x_train size:(135, 4), x_test size:(15, 4), y_train size:(135,), y_test size:(15,)\n"
     ]
    }
   ],
   "source": [
    "x_train, x_test, y_train, y_test = train_test_split(X, y, test_size=0.1, random_state=0)\n",
    "print(f'x_train size:{x_train.shape}, x_test size:{x_test.shape}, y_train size:{y_train.shape}, y_test size:{y_test.shape}')"
   ]
  },
  {
   "cell_type": "markdown",
   "id": "63e75d55-2618-49ae-8bd0-7ac7f57210c3",
   "metadata": {},
   "source": [
    "# To Tensor"
   ]
  },
  {
   "cell_type": "code",
   "execution_count": 4,
   "id": "5d6ee0de-b15b-4ca2-839a-607885780c93",
   "metadata": {},
   "outputs": [],
   "source": [
    "x_train = torch.FloatTensor(x_train.values)\n",
    "y_train = torch.LongTensor(y_train.values)"
   ]
  },
  {
   "cell_type": "code",
   "execution_count": 5,
   "id": "ada6c2c6-3190-402c-b83d-3341a4500ca9",
   "metadata": {},
   "outputs": [],
   "source": [
    "x_test = torch.FloatTensor(x_test.values)\n",
    "y_test = torch.LongTensor(y_test.values)"
   ]
  },
  {
   "cell_type": "markdown",
   "id": "14b6cd34-266d-4872-8ea8-ec3e9881b3ee",
   "metadata": {},
   "source": [
    "# Standardization"
   ]
  },
  {
   "cell_type": "code",
   "execution_count": 6,
   "id": "5b77f4ff-e13d-4470-b15f-efcdecfbb40a",
   "metadata": {},
   "outputs": [
    {
     "name": "stdout",
     "output_type": "stream",
     "text": [
      "mean on feats:tensor([5.8133, 3.0615, 3.7074, 1.1874]), std on feats:tensor([0.8442, 0.4343, 1.7819, 0.7717])\n"
     ]
    }
   ],
   "source": [
    "mu = x_train.mean(dim=0)\n",
    "std = x_train.std(dim=0)\n",
    "print(f'mean on feats:{mu}, std on feats:{std}')"
   ]
  },
  {
   "cell_type": "code",
   "execution_count": 7,
   "id": "37bc9bc7-06c3-4dca-8a2d-3d5ec92a513c",
   "metadata": {},
   "outputs": [
    {
     "name": "stdout",
     "output_type": "stream",
     "text": [
      "train samples:tensor([-1.0819,  1.2398, -1.2949, -1.4090]), \n",
      " test samples:tensor([-0.0158, -0.6020,  0.7815,  1.5712])\n"
     ]
    }
   ],
   "source": [
    "# for x_train\n",
    "x_train_st = (x_train-mu)/std\n",
    "\n",
    "# for x_test: using mean and std of train samples\n",
    "x_test_st = (x_test-mu)/std\n",
    "# print first row of train and test data\n",
    "print(f'train samples:{x_train_st[0, :]}, \\n test samples:{x_test_st[0, :]}')"
   ]
  },
  {
   "cell_type": "code",
   "execution_count": 8,
   "id": "d4c22c86-2392-42d7-a152-4d10e0f77a4f",
   "metadata": {},
   "outputs": [
    {
     "data": {
      "text/plain": [
       "tensor([ 3.4791e-07, -5.2099e-07, -4.5035e-08,  1.7661e-08])"
      ]
     },
     "execution_count": 8,
     "metadata": {},
     "output_type": "execute_result"
    }
   ],
   "source": [
    "x_train_st.mean(dim=0)"
   ]
  },
  {
   "cell_type": "code",
   "execution_count": 9,
   "id": "7d76294e-8b93-41a1-bde3-8699a1e712f8",
   "metadata": {},
   "outputs": [
    {
     "data": {
      "text/plain": [
       "tensor([1., 1., 1., 1.])"
      ]
     },
     "execution_count": 9,
     "metadata": {},
     "output_type": "execute_result"
    }
   ],
   "source": [
    "x_train_st.std(dim=0)"
   ]
  },
  {
   "cell_type": "markdown",
   "id": "b32d4d05-38db-4d29-8787-d348c1e928c1",
   "metadata": {},
   "source": [
    "# Data Loader"
   ]
  },
  {
   "cell_type": "code",
   "execution_count": 24,
   "id": "db30911a-35bd-4616-b8f8-3bef1505bbee",
   "metadata": {},
   "outputs": [],
   "source": [
    "train_dataset = TensorDataset(x_train_st, y_train)\n",
    "train_loader = DataLoader(train_dataset, batch_size=25, shuffle=True)"
   ]
  },
  {
   "cell_type": "code",
   "execution_count": 25,
   "id": "7e1fbad8-5b77-4cc8-89ac-d64555dc4a62",
   "metadata": {},
   "outputs": [],
   "source": [
    "valid_dataset = TensorDataset(x_test_st, y_test)\n",
    "valid_loader = DataLoader(valid_dataset, batch_size=10, shuffle=True)"
   ]
  },
  {
   "cell_type": "markdown",
   "id": "a21f0568-2619-47b7-8bd8-f98c4557b173",
   "metadata": {},
   "source": [
    "# Define a model"
   ]
  },
  {
   "cell_type": "code",
   "execution_count": 26,
   "id": "5381295a-863e-48f1-aea7-8a1e22e7e682",
   "metadata": {},
   "outputs": [],
   "source": [
    "in_feats = len(X.columns) # 4\n",
    "num_class = len(y.unique()) # 3\n",
    "h1 = 10\n",
    "h2 = 10\n",
    "\n",
    "clf = nn.Sequential(nn.Linear(in_feats, h1),\n",
    "                    nn.ReLU(),\n",
    "                    nn.Linear(h1, h2),\n",
    "                    nn.ReLU(),\n",
    "                    nn.Linear(h2, num_class))\n",
    "\n",
    "# we don't add Soft Max to the end of the clf. Because Soft Max exists in loss function: CrossEntropyLoss"
   ]
  },
  {
   "cell_type": "code",
   "execution_count": 12,
   "id": "08127e90-f416-4619-a017-5aeeab65fd65",
   "metadata": {},
   "outputs": [
    {
     "data": {
      "text/plain": [
       "[40, 10, 100, 10, 30, 3]"
      ]
     },
     "execution_count": 12,
     "metadata": {},
     "output_type": "execute_result"
    }
   ],
   "source": [
    "# parameters of the model\n",
    "[torch.numel(p) for p in clf.parameters()]"
   ]
  },
  {
   "cell_type": "code",
   "execution_count": 13,
   "id": "6c2947fd-747d-4e62-8306-9a1183d108f5",
   "metadata": {},
   "outputs": [
    {
     "data": {
      "text/plain": [
       "tensor(193)"
      ]
     },
     "execution_count": 13,
     "metadata": {},
     "output_type": "execute_result"
    }
   ],
   "source": [
    "# number of parameters\n",
    "torch.tensor([torch.numel(p) for p in clf.parameters()]).sum()"
   ]
  },
  {
   "cell_type": "markdown",
   "id": "673657be-28cc-4d2e-8044-577b8c2adb6d",
   "metadata": {},
   "source": [
    "# Loss & Optimizer"
   ]
  },
  {
   "cell_type": "code",
   "execution_count": 27,
   "id": "837fc904-2544-431e-9799-abf4860eb4b7",
   "metadata": {},
   "outputs": [],
   "source": [
    "loss_fn = nn.CrossEntropyLoss()"
   ]
  },
  {
   "cell_type": "code",
   "execution_count": 28,
   "id": "9242be48-fc79-414f-9e1d-5695c3750add",
   "metadata": {},
   "outputs": [],
   "source": [
    "optimizer = optim.SGD(clf.parameters(), lr=0.01, momentum=0.9) "
   ]
  },
  {
   "cell_type": "markdown",
   "id": "0a4f25b8-57d3-4d39-a849-7e113e294473",
   "metadata": {},
   "source": [
    "# Device"
   ]
  },
  {
   "cell_type": "code",
   "execution_count": 29,
   "id": "fe454e2e-2e97-4f14-a2d8-93b9d14fc3cc",
   "metadata": {},
   "outputs": [],
   "source": [
    "device = 'cuda' if torch.cuda.is_available() else 'cpu'"
   ]
  },
  {
   "cell_type": "code",
   "execution_count": 30,
   "id": "a15033f6-b65a-4e7d-942f-bae2e1cca12d",
   "metadata": {},
   "outputs": [
    {
     "name": "stdout",
     "output_type": "stream",
     "text": [
      "cuda\n"
     ]
    }
   ],
   "source": [
    "print(device)"
   ]
  },
  {
   "cell_type": "code",
   "execution_count": 31,
   "id": "a28a4eba-37f6-4a7b-b2d3-a5813f3c1d98",
   "metadata": {},
   "outputs": [],
   "source": [
    "clf = clf.to(device)"
   ]
  },
  {
   "cell_type": "markdown",
   "id": "4555abed-abe7-4d85-bf80-3347d36d1752",
   "metadata": {},
   "source": [
    "# Train Looop"
   ]
  },
  {
   "cell_type": "code",
   "execution_count": 32,
   "id": "4e17036c-c9b5-4c96-a4ba-327e2c730f86",
   "metadata": {},
   "outputs": [],
   "source": [
    "class AverageMeter(object):\n",
    "    \"\"\"Computes and stores the average and current value\"\"\"\n",
    "    def __init__(self):\n",
    "        self.reset()\n",
    "\n",
    "    def reset(self):\n",
    "        self.val = 0\n",
    "        self.avg = 0\n",
    "        self.sum = 0\n",
    "        self.count = 0\n",
    "\n",
    "    def update(self, val, n=1):\n",
    "        self.val = val\n",
    "        self.sum += val * n\n",
    "        self.count += n\n",
    "        self.avg = self.sum / self.count"
   ]
  },
  {
   "cell_type": "code",
   "execution_count": 33,
   "id": "e9f505c1-5b37-4df6-ac4c-23f4bfae0e61",
   "metadata": {},
   "outputs": [
    {
     "name": "stdout",
     "output_type": "stream",
     "text": [
      "Epoch:0, train_loss:1.065, valid_loss:1.066 \n",
      " Acc_train:0.4000000059604645, Acc_valid:0.6000000238418579\n",
      "****************************************************************************************************\n",
      "Epoch:10, train_loss:0.5837, valid_loss:0.6321 \n",
      " Acc_train:0.6666666865348816, Acc_valid:0.46666666865348816\n",
      "****************************************************************************************************\n",
      "Epoch:20, train_loss:0.4673, valid_loss:0.6607 \n",
      " Acc_train:0.6888889074325562, Acc_valid:0.46666666865348816\n",
      "****************************************************************************************************\n",
      "Epoch:30, train_loss:0.3543, valid_loss:0.585 \n",
      " Acc_train:0.8592592477798462, Acc_valid:0.46666666865348816\n",
      "****************************************************************************************************\n",
      "Epoch:40, train_loss:0.2496, valid_loss:0.4426 \n",
      " Acc_train:0.9111111164093018, Acc_valid:0.7333333492279053\n",
      "****************************************************************************************************\n",
      "Epoch:50, train_loss:0.1769, valid_loss:0.2353 \n",
      " Acc_train:0.9555555582046509, Acc_valid:0.9333333373069763\n",
      "****************************************************************************************************\n",
      "Epoch:60, train_loss:0.1071, valid_loss:0.137 \n",
      " Acc_train:0.9629629850387573, Acc_valid:1.0\n",
      "****************************************************************************************************\n",
      "Epoch:70, train_loss:0.09332, valid_loss:0.1195 \n",
      " Acc_train:0.970370352268219, Acc_valid:1.0\n",
      "****************************************************************************************************\n",
      "Epoch:80, train_loss:0.07443, valid_loss:0.05641 \n",
      " Acc_train:0.970370352268219, Acc_valid:1.0\n",
      "****************************************************************************************************\n",
      "Epoch:90, train_loss:0.06982, valid_loss:0.04778 \n",
      " Acc_train:0.9777777791023254, Acc_valid:1.0\n",
      "****************************************************************************************************\n",
      "Epoch:100, train_loss:0.05554, valid_loss:0.0552 \n",
      " Acc_train:0.970370352268219, Acc_valid:1.0\n",
      "****************************************************************************************************\n",
      "Epoch:110, train_loss:0.05249, valid_loss:0.04873 \n",
      " Acc_train:0.970370352268219, Acc_valid:1.0\n",
      "****************************************************************************************************\n",
      "Epoch:120, train_loss:0.06347, valid_loss:0.03246 \n",
      " Acc_train:0.9777777791023254, Acc_valid:1.0\n",
      "****************************************************************************************************\n",
      "Epoch:130, train_loss:0.05454, valid_loss:0.03289 \n",
      " Acc_train:0.970370352268219, Acc_valid:1.0\n",
      "****************************************************************************************************\n",
      "Epoch:140, train_loss:0.04533, valid_loss:0.02397 \n",
      " Acc_train:0.9851852059364319, Acc_valid:1.0\n",
      "****************************************************************************************************\n",
      "Epoch:150, train_loss:0.04376, valid_loss:0.02152 \n",
      " Acc_train:0.9851852059364319, Acc_valid:1.0\n",
      "****************************************************************************************************\n",
      "Epoch:160, train_loss:0.04733, valid_loss:0.02066 \n",
      " Acc_train:0.9851852059364319, Acc_valid:1.0\n",
      "****************************************************************************************************\n",
      "Epoch:170, train_loss:0.04368, valid_loss:0.02086 \n",
      " Acc_train:0.9851852059364319, Acc_valid:1.0\n",
      "****************************************************************************************************\n",
      "Epoch:180, train_loss:0.0445, valid_loss:0.02051 \n",
      " Acc_train:0.9851852059364319, Acc_valid:1.0\n",
      "****************************************************************************************************\n",
      "Epoch:190, train_loss:0.05368, valid_loss:0.01534 \n",
      " Acc_train:0.9851852059364319, Acc_valid:1.0\n",
      "****************************************************************************************************\n",
      "Epoch:200, train_loss:0.03986, valid_loss:0.01255 \n",
      " Acc_train:0.9851852059364319, Acc_valid:1.0\n",
      "****************************************************************************************************\n",
      "Epoch:210, train_loss:0.06241, valid_loss:0.009148 \n",
      " Acc_train:0.9851852059364319, Acc_valid:1.0\n",
      "****************************************************************************************************\n",
      "Epoch:220, train_loss:0.04517, valid_loss:0.02524 \n",
      " Acc_train:0.9851852059364319, Acc_valid:1.0\n",
      "****************************************************************************************************\n",
      "Epoch:230, train_loss:0.03865, valid_loss:0.01024 \n",
      " Acc_train:0.9851852059364319, Acc_valid:1.0\n",
      "****************************************************************************************************\n",
      "Epoch:240, train_loss:0.03804, valid_loss:0.01037 \n",
      " Acc_train:0.9851852059364319, Acc_valid:1.0\n",
      "****************************************************************************************************\n",
      "Epoch:250, train_loss:0.0383, valid_loss:0.01807 \n",
      " Acc_train:0.9851852059364319, Acc_valid:1.0\n",
      "****************************************************************************************************\n",
      "Epoch:260, train_loss:0.03767, valid_loss:0.00711 \n",
      " Acc_train:0.9851852059364319, Acc_valid:1.0\n",
      "****************************************************************************************************\n",
      "Epoch:270, train_loss:0.06785, valid_loss:0.01371 \n",
      " Acc_train:0.9851852059364319, Acc_valid:1.0\n",
      "****************************************************************************************************\n",
      "Epoch:280, train_loss:0.04865, valid_loss:0.02435 \n",
      " Acc_train:0.9851852059364319, Acc_valid:1.0\n",
      "****************************************************************************************************\n",
      "Epoch:290, train_loss:0.03528, valid_loss:0.005489 \n",
      " Acc_train:0.9851852059364319, Acc_valid:1.0\n",
      "****************************************************************************************************\n",
      "Epoch:300, train_loss:0.03881, valid_loss:0.006421 \n",
      " Acc_train:0.9851852059364319, Acc_valid:1.0\n",
      "****************************************************************************************************\n",
      "Epoch:310, train_loss:0.03543, valid_loss:0.004957 \n",
      " Acc_train:0.9851852059364319, Acc_valid:1.0\n",
      "****************************************************************************************************\n",
      "Epoch:320, train_loss:0.03441, valid_loss:0.01043 \n",
      " Acc_train:0.9851852059364319, Acc_valid:1.0\n",
      "****************************************************************************************************\n",
      "Epoch:330, train_loss:0.03381, valid_loss:0.004979 \n",
      " Acc_train:0.9851852059364319, Acc_valid:1.0\n",
      "****************************************************************************************************\n",
      "Epoch:340, train_loss:0.03738, valid_loss:0.009205 \n",
      " Acc_train:0.9851852059364319, Acc_valid:1.0\n",
      "****************************************************************************************************\n",
      "Epoch:350, train_loss:0.03523, valid_loss:0.009592 \n",
      " Acc_train:0.9851852059364319, Acc_valid:1.0\n",
      "****************************************************************************************************\n",
      "Epoch:360, train_loss:0.03853, valid_loss:0.006653 \n",
      " Acc_train:0.9851852059364319, Acc_valid:1.0\n",
      "****************************************************************************************************\n",
      "Epoch:370, train_loss:0.0563, valid_loss:0.006323 \n",
      " Acc_train:0.9851852059364319, Acc_valid:1.0\n",
      "****************************************************************************************************\n",
      "Epoch:380, train_loss:0.03677, valid_loss:0.006004 \n",
      " Acc_train:0.9851852059364319, Acc_valid:1.0\n",
      "****************************************************************************************************\n",
      "Epoch:390, train_loss:0.03592, valid_loss:0.006268 \n",
      " Acc_train:0.9851852059364319, Acc_valid:1.0\n",
      "****************************************************************************************************\n",
      "Epoch:400, train_loss:0.03355, valid_loss:0.009565 \n",
      " Acc_train:0.9851852059364319, Acc_valid:1.0\n",
      "****************************************************************************************************\n",
      "Epoch:410, train_loss:0.03388, valid_loss:0.006539 \n",
      " Acc_train:0.9851852059364319, Acc_valid:1.0\n",
      "****************************************************************************************************\n",
      "Epoch:420, train_loss:0.03566, valid_loss:0.004312 \n",
      " Acc_train:0.9851852059364319, Acc_valid:1.0\n",
      "****************************************************************************************************\n",
      "Epoch:430, train_loss:0.03514, valid_loss:0.004684 \n",
      " Acc_train:0.9851852059364319, Acc_valid:1.0\n",
      "****************************************************************************************************\n",
      "Epoch:440, train_loss:0.03807, valid_loss:0.002935 \n",
      " Acc_train:0.9851852059364319, Acc_valid:1.0\n",
      "****************************************************************************************************\n",
      "Epoch:450, train_loss:0.03466, valid_loss:0.007555 \n",
      " Acc_train:0.9851852059364319, Acc_valid:1.0\n",
      "****************************************************************************************************\n",
      "Epoch:460, train_loss:0.03672, valid_loss:0.002655 \n",
      " Acc_train:0.9925925731658936, Acc_valid:1.0\n",
      "****************************************************************************************************\n",
      "Epoch:470, train_loss:0.03576, valid_loss:0.007923 \n",
      " Acc_train:0.9851852059364319, Acc_valid:1.0\n",
      "****************************************************************************************************\n",
      "Epoch:480, train_loss:0.03237, valid_loss:0.007865 \n",
      " Acc_train:0.9851852059364319, Acc_valid:1.0\n",
      "****************************************************************************************************\n",
      "Epoch:490, train_loss:0.05546, valid_loss:0.004647 \n",
      " Acc_train:0.9851852059364319, Acc_valid:1.0\n",
      "****************************************************************************************************\n"
     ]
    }
   ],
   "source": [
    "num_epochs = 500\n",
    "clf = clf.to(device)\n",
    "loss_train_hist = []\n",
    "loss_valid_hist = []\n",
    "\n",
    "acc_train_hist = []\n",
    "acc_valid_hist = []\n",
    "\n",
    "for epoch in range(num_epochs):\n",
    "    loss_train = AverageMeter()\n",
    "    acc_train = Accuracy(task='multiclass', num_classes=len(y.unique())).to(device)\n",
    "    for i, (inputs, targets) in enumerate(train_loader):\n",
    "        inputs, targets = inputs.to(device), targets.to(device)\n",
    "        outputs = clf(inputs)\n",
    "        loss = loss_fn(outputs, targets)\n",
    "        loss.backward()\n",
    "        optimizer.step()\n",
    "        optimizer.zero_grad()\n",
    "        loss_train.update(loss.item())\n",
    "        acc_train(outputs, targets)\n",
    "    \n",
    "    \n",
    "    with torch.no_grad():\n",
    "        loss_valid = AverageMeter()\n",
    "        acc_valid = Accuracy(task='multiclass', num_classes=len(y.unique())).to(device)\n",
    "        for i, (inputs, targets) in enumerate(valid_loader):\n",
    "            inputs, targets = inputs.to(device), targets.to(device)\n",
    "            outputs = clf(inputs)\n",
    "            loss = loss_fn(outputs, targets)\n",
    "            loss_valid.update(loss.item())\n",
    "            acc_valid(outputs, targets)\n",
    "\n",
    "    loss_train_hist.append(loss_train.avg)\n",
    "    loss_valid_hist.append(loss_valid.avg)\n",
    "\n",
    "    acc_train_hist.append(acc_train.compute().item())\n",
    "    acc_valid_hist.append(acc_valid.compute().item())\n",
    "\n",
    "    if epoch % 10 == 0:\n",
    "        print(f'Epoch:{epoch}, train_loss:{loss_train.avg:.4}, valid_loss:{loss_valid.avg:.4} \\n Acc_train:{acc_train.compute()}, Acc_valid:{acc_valid.compute()}')\n",
    "        print(100 * '*')\n",
    "\n",
    "    acc_train.reset()\n",
    "    acc_valid.reset()"
   ]
  },
  {
   "cell_type": "markdown",
   "id": "b2e081c5-45d0-4511-bbe6-671449df0e95",
   "metadata": {},
   "source": [
    "# Learning Curve"
   ]
  },
  {
   "cell_type": "code",
   "execution_count": 175,
   "id": "5b70efbe-a9f6-48b3-850d-9103a943b37f",
   "metadata": {},
   "outputs": [
    {
     "data": {
      "text/plain": [
       "<matplotlib.legend.Legend at 0x215f12589b0>"
      ]
     },
     "execution_count": 175,
     "metadata": {},
     "output_type": "execute_result"
    },
    {
     "data": {
      "image/png": "[encoded data removed]",
      "text/plain": [
       "<Figure size 1000x1000 with 1 Axes>"
      ]
     },
     "metadata": {},
     "output_type": "display_data"
    }
   ],
   "source": [
    "fig, ax = plt.subplots(figsize=(10, 10))\n",
    "ax.plot(range(num_epochs), loss_train_hist, color='blue', label='Train Loss')\n",
    "ax.plot(range(num_epochs), loss_valid_hist, color='red', label='Valid Loss')\n",
    "\n",
    "ax.set_xlabel('Epoch')\n",
    "ax.set_ylabel('Loss')\n",
    "ax.grid(True)\n",
    "ax.legend()"
   ]
  },
  {
   "cell_type": "code",
   "execution_count": 34,
   "id": "ef8d113e-103d-42c3-9809-940fd8cfb107",
   "metadata": {},
   "outputs": [
    {
     "data": {
      "text/plain": [
       "<matplotlib.legend.Legend at 0x1db80701e20>"
      ]
     },
     "execution_count": 34,
     "metadata": {},
     "output_type": "execute_result"
    },
    {
     "data": {
      "image/png": "[encoded data removed]",
      "text/plain": [
       "<Figure size 640x480 with 1 Axes>"
      ]
     },
     "metadata": {},
     "output_type": "display_data"
    }
   ],
   "source": [
    "plt.plot(range(num_epochs), acc_valid_hist, color='black', label='Accuracy of Validation')\n",
    "plt.xlabel('Epoch')\n",
    "plt.ylabel('Acc')\n",
    "plt.grid(True)\n",
    "plt.legend()"
   ]
  },
  {
   "cell_type": "markdown",
   "id": "b6c93d1e-8697-4b4e-a915-327e0aab5765",
   "metadata": {},
   "source": [
    "# Model Saving"
   ]
  },
  {
   "cell_type": "code",
   "execution_count": 35,
   "id": "ceafbf24-d56a-4895-9d93-25e2cbf238e3",
   "metadata": {},
   "outputs": [],
   "source": [
    "torch.save(clf, 'classification_iris.pth')"
   ]
  },
  {
   "cell_type": "code",
   "execution_count": 36,
   "id": "f39bdb95-0112-4e5e-ab9a-4e5e8837d107",
   "metadata": {},
   "outputs": [
    {
     "name": "stderr",
     "output_type": "stream",
     "text": [
      "C:\\Users\\Darab Store\\AppData\\Local\\Temp\\ipykernel_17484\\4041440426.py:1: FutureWarning: You are using `torch.load` with `weights_only=False` (the current default value), which uses the default pickle module implicitly. It is possible to construct malicious pickle data which will execute arbitrary code during unpickling (See https://github.com/pytorch/pytorch/blob/main/SECURITY.md#untrusted-models for more details). In a future release, the default value for `weights_only` will be flipped to `True`. This limits the functions that could be executed during unpickling. Arbitrary objects will no longer be allowed to be loaded via this mode unless they are explicitly allowlisted by the user via `torch.serialization.add_safe_globals`. We recommend you start setting `weights_only=True` for any use case where you don't have full control of the loaded file. Please open an issue on GitHub for any issues related to this experimental feature.\n",
      "  torch.load('classification_iris.pth')\n"
     ]
    },
    {
     "data": {
      "text/plain": [
       "Sequential(\n",
       "  (0): Linear(in_features=4, out_features=10, bias=True)\n",
       "  (1): ReLU()\n",
       "  (2): Linear(in_features=10, out_features=10, bias=True)\n",
       "  (3): ReLU()\n",
       "  (4): Linear(in_features=10, out_features=3, bias=True)\n",
       ")"
      ]
     },
     "execution_count": 36,
     "metadata": {},
     "output_type": "execute_result"
    }
   ],
   "source": [
    "torch.load('classification_iris.pth')"
   ]
  },
  {
   "cell_type": "code",
   "execution_count": null,
   "id": "2dab8d42-9069-497a-b97a-eb00dc6034a0",
   "metadata": {},
   "outputs": [],
   "source": []
  }
 ],
 "metadata": {
  "kernelspec": {
   "display_name": "Python 3 (ipykernel)",
   "language": "python",
   "name": "python3"
  },
  "language_info": {
   "codemirror_mode": {
    "name": "ipython",
    "version": 3
   },
   "file_extension": ".py",
   "mimetype": "text/x-python",
   "name": "python",
   "nbconvert_exporter": "python",
   "pygments_lexer": "ipython3",
   "version": "3.12.8"
  }
 },
 "nbformat": 4,
 "nbformat_minor": 5
}
