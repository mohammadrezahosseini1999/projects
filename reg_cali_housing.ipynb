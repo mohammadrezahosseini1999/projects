{
 "cells": [
  {
   "cell_type": "markdown",
   "id": "767b8a8d-5530-422a-8ae6-a94ce2c1e980",
   "metadata": {},
   "source": [
    "# Importing"
   ]
  },
  {
   "cell_type": "code",
   "execution_count": 6,
   "id": "162c998b-4bca-474f-bfd8-6c792c269d07",
   "metadata": {},
   "outputs": [],
   "source": [
    "import torch\n",
    "from torch import nn, optim\n",
    "import torch.nn.functional as F\n",
    "from torch.utils.data import DataLoader, TensorDataset, random_split\n",
    "from torchmetrics.regression import R2Score\n",
    "\n",
    "import pandas as pd\n",
    "import matplotlib.pyplot as plt\n",
    "from sklearn.datasets import fetch_california_housing\n",
    "from sklearn.model_selection import train_test_split, KFold"
   ]
  },
  {
   "cell_type": "markdown",
   "id": "a6798375-54a8-4d7e-a7b8-a3f9a1d47eb9",
   "metadata": {},
   "source": [
    "# Import Data"
   ]
  },
  {
   "cell_type": "code",
   "execution_count": 29,
   "id": "2f484ee0-8e1d-487e-b3fd-c26204526c98",
   "metadata": {},
   "outputs": [],
   "source": [
    "X, y = fetch_california_housing(as_frame=True, return_X_y=True)"
   ]
  },
  {
   "cell_type": "markdown",
   "id": "0bf13c63-d34c-4056-888d-2758d8855b3e",
   "metadata": {},
   "source": [
    "# Splitting data"
   ]
  },
  {
   "cell_type": "code",
   "execution_count": 30,
   "id": "a447454a-f2dd-4eda-8cd3-96d575cdab1c",
   "metadata": {},
   "outputs": [
    {
     "name": "stdout",
     "output_type": "stream",
     "text": [
      "x_train size:(14447, 8), y_train size:(14447,), \n",
      " x_test size:(6193, 8), y_test size(6193,)\n"
     ]
    }
   ],
   "source": [
    "x_train, x_test, y_train, y_test = train_test_split(X, y, train_size=0.7, random_state=0)\n",
    "print(f'x_train size:{x_train.shape}, y_train size:{y_train.shape}, \\n x_test size:{x_test.shape}, y_test size{y_test.shape}')"
   ]
  },
  {
   "cell_type": "code",
   "execution_count": 31,
   "id": "b06c350f-3ce6-4d62-ac02-1f2211a5b034",
   "metadata": {},
   "outputs": [],
   "source": [
    "x_train, x_valid, y_train, y_valid = train_test_split(x_train, y_train, test_size=0.15, random_state=0)"
   ]
  },
  {
   "cell_type": "markdown",
   "id": "01ff12b0-38a4-43eb-908c-17b6e03dca81",
   "metadata": {},
   "source": [
    "# To Tensor"
   ]
  },
  {
   "cell_type": "code",
   "execution_count": 32,
   "id": "357435a7-02a9-40fc-8014-188b679594ce",
   "metadata": {},
   "outputs": [
    {
     "name": "stdout",
     "output_type": "stream",
     "text": [
      "x_train size:torch.Size([12279, 8]), y_train size:torch.Size([12279, 1])\n"
     ]
    }
   ],
   "source": [
    "x_train = torch.FloatTensor(x_train.values)\n",
    "y_train = torch.FloatTensor(y_train.values).unsqueeze(1)\n",
    "print(f'x_train size:{x_train.shape}, y_train size:{y_train.shape}')"
   ]
  },
  {
   "cell_type": "code",
   "execution_count": 33,
   "id": "1bdd9bca-6f92-4798-8157-f6e353f8e317",
   "metadata": {},
   "outputs": [
    {
     "name": "stdout",
     "output_type": "stream",
     "text": [
      "x_valid size:torch.Size([2168, 8]), y_valid size:torch.Size([2168, 1])\n"
     ]
    }
   ],
   "source": [
    "x_valid = torch.FloatTensor(x_valid.values)\n",
    "y_valid = torch.FloatTensor(y_valid.values).unsqueeze(1)\n",
    "print(f'x_valid size:{x_valid.shape}, y_valid size:{y_valid.shape}')"
   ]
  },
  {
   "cell_type": "code",
   "execution_count": 34,
   "id": "0609df49-90d1-4683-ba45-f8a57502f3ad",
   "metadata": {},
   "outputs": [
    {
     "name": "stdout",
     "output_type": "stream",
     "text": [
      "x_test size:torch.Size([6193, 8]), y_test sizetorch.Size([6193, 1])\n"
     ]
    }
   ],
   "source": [
    "x_test = torch.FloatTensor(x_test.values)\n",
    "y_test = torch.FloatTensor(y_test.values).unsqueeze(1)\n",
    "print(f'x_test size:{x_test.shape}, y_test size{y_test.shape}')"
   ]
  },
  {
   "cell_type": "markdown",
   "id": "3a9fce54-9107-49f8-b1bb-d9251fc993d9",
   "metadata": {},
   "source": [
    "# Normalize"
   ]
  },
  {
   "cell_type": "code",
   "execution_count": 35,
   "id": "c130201b-30da-4beb-ab9d-ad5a0c7fd19c",
   "metadata": {},
   "outputs": [
    {
     "name": "stdout",
     "output_type": "stream",
     "text": [
      "tensor([ 3.8628e+00,  2.8633e+01,  5.4168e+00,  1.0957e+00,  1.4297e+03,\n",
      "         3.0534e+00,  3.5643e+01, -1.1958e+02])\n",
      "torch.Size([8])\n"
     ]
    }
   ],
   "source": [
    "mu = x_train.mean(dim=0)\n",
    "print(mu)\n",
    "print(mu.shape)"
   ]
  },
  {
   "cell_type": "code",
   "execution_count": 36,
   "id": "9030b450-25cd-41d5-b3c1-dbcc9f9cc7fd",
   "metadata": {},
   "outputs": [
    {
     "name": "stdout",
     "output_type": "stream",
     "text": [
      "tensor([1.8920e+00, 1.2595e+01, 2.3555e+00, 4.7635e-01, 1.1678e+03, 7.4313e+00,\n",
      "        2.1419e+00, 2.0079e+00])\n",
      "torch.Size([8])\n"
     ]
    }
   ],
   "source": [
    "std = x_train.std(dim=0)\n",
    "print(std)\n",
    "print(std.shape)"
   ]
  },
  {
   "cell_type": "code",
   "execution_count": 37,
   "id": "d761376a-c865-4d99-9c79-8e03cd81e99b",
   "metadata": {},
   "outputs": [
    {
     "name": "stdout",
     "output_type": "stream",
     "text": [
      " mean: tensor([ 6.2134e-10, -6.8036e-08, -2.3921e-08, -5.6231e-08, -9.6929e-08,\n",
      "        -1.1184e-08, -1.0755e-06, -2.5798e-06]), \n",
      " std: tensor([1.0000, 1.0000, 1.0000, 1.0000, 1.0000, 1.0000, 1.0000, 1.0000])\n"
     ]
    }
   ],
   "source": [
    "# Standardization\n",
    "\n",
    "x_train_st = (x_train - mu) / std\n",
    "print(f' mean: {x_train_st.mean(dim=0)}, \\n std: {x_train_st.std(dim=0)}')"
   ]
  },
  {
   "cell_type": "code",
   "execution_count": 38,
   "id": "c8853882-1585-4b79-a08f-9330e83ce916",
   "metadata": {},
   "outputs": [
    {
     "name": "stdout",
     "output_type": "stream",
     "text": [
      " mean: tensor([ 0.0139, -0.0087,  0.0193, -0.0131, -0.0256, -0.0116, -0.0399,  0.0549]), \n",
      " std: tensor([0.9971, 1.0005, 0.7883, 0.5969, 0.8905, 0.1693, 0.9941, 0.9949])\n"
     ]
    }
   ],
   "source": [
    "x_valid_st = (x_valid - mu) / std\n",
    "print(f' mean: {x_valid_st.mean(dim=0)}, \\n std: {x_valid_st.std(dim=0)}')"
   ]
  },
  {
   "cell_type": "code",
   "execution_count": 39,
   "id": "97ed8253-a4dc-47c1-b11a-9dcb57315725",
   "metadata": {},
   "outputs": [
    {
     "name": "stdout",
     "output_type": "stream",
     "text": [
      "mean: tensor([ 0.0089,  0.0046,  0.0106,  0.0111, -0.0032,  0.0118, -0.0031,  0.0031]), \n",
      " std: tensor([1.0148, 0.9974, 1.2153, 1.0915, 0.9347, 2.1255, 0.9927, 0.9943])\n"
     ]
    }
   ],
   "source": [
    "x_test_st = (x_test - mu) / std\n",
    "print(f'mean: {x_test_st.mean(dim=0)}, \\n std: {x_test_st.std(dim=0)}')"
   ]
  },
  {
   "cell_type": "markdown",
   "id": "c1d84cd1-aada-4441-9e62-dc8292777729",
   "metadata": {},
   "source": [
    "# Data Loader"
   ]
  },
  {
   "cell_type": "code",
   "execution_count": 15,
   "id": "abf7ec1a-c573-4a3a-95d5-238caf6a3a47",
   "metadata": {},
   "outputs": [],
   "source": [
    "# to create mini batches from Dataset\n",
    "# we need to give an object dataset to data loader: using TensorDataset"
   ]
  },
  {
   "cell_type": "code",
   "execution_count": 43,
   "id": "9f41b6c1-7b07-4197-9d0f-7127bd35f86e",
   "metadata": {},
   "outputs": [],
   "source": [
    "train_dataset = TensorDataset(x_train_st, y_train)\n",
    "train_loader = DataLoader(train_dataset, batch_size=512, shuffle=True)"
   ]
  },
  {
   "cell_type": "code",
   "execution_count": 44,
   "id": "2e68e593-ee0f-4758-aa17-c56712446280",
   "metadata": {},
   "outputs": [],
   "source": [
    "valid_dataset = TensorDataset(x_valid_st, y_valid)\n",
    "valid_loader = DataLoader(valid_dataset, batch_size=256, shuffle=True)"
   ]
  },
  {
   "cell_type": "code",
   "execution_count": 45,
   "id": "33f40b6e-9eda-4aa8-9aa0-ebf229c53e97",
   "metadata": {},
   "outputs": [],
   "source": [
    "test_dataset = TensorDataset(x_test_st, y_test)\n",
    "test_loader = DataLoader(test_dataset, batch_size=256, shuffle=True)"
   ]
  },
  {
   "cell_type": "markdown",
   "id": "544a240f-c65b-4df8-bfa7-82fb589d930e",
   "metadata": {},
   "source": [
    "# Define a model"
   ]
  },
  {
   "cell_type": "code",
   "execution_count": 67,
   "id": "e92f113b-c120-4058-aef2-49c591165d15",
   "metadata": {},
   "outputs": [],
   "source": [
    "in_feats = 8\n",
    "out_feat = 1\n",
    "h1 = 64\n",
    "h2 = 16\n",
    "h3 = 8\n",
    "reg = nn.Sequential(nn.Linear(in_feats, h1),\n",
    "                    nn.ReLU(),\n",
    "                    nn.Linear(h1, h2),\n",
    "                    nn.ReLU(),\n",
    "                    nn.Linear(h2, out_feat))\n",
    "reg = reg.to(device)"
   ]
  },
  {
   "cell_type": "markdown",
   "id": "384228aa-9f59-4a62-841d-cb67601d3d08",
   "metadata": {},
   "source": [
    "# Loss Function & Optimization"
   ]
  },
  {
   "cell_type": "code",
   "execution_count": 68,
   "id": "db3d008a-6dd6-42aa-a1a7-6c12cecd2418",
   "metadata": {},
   "outputs": [],
   "source": [
    "loss_fn = nn.MSELoss()\n",
    "optimizer = optim.SGD(reg.parameters(), lr=0.05)"
   ]
  },
  {
   "cell_type": "markdown",
   "id": "edb23426-1d15-452c-97d6-47fa0eebcd8d",
   "metadata": {},
   "source": [
    "# Device"
   ]
  },
  {
   "cell_type": "code",
   "execution_count": 69,
   "id": "cb1f35d2-52ba-4060-8308-c8594fc3910b",
   "metadata": {},
   "outputs": [],
   "source": [
    "device = 'cuda' if torch.cuda.is_available() else 'cpu'"
   ]
  },
  {
   "cell_type": "code",
   "execution_count": 70,
   "id": "5581dc3e-f386-4dab-92fd-eb401070d0db",
   "metadata": {},
   "outputs": [
    {
     "name": "stdout",
     "output_type": "stream",
     "text": [
      "cuda\n"
     ]
    }
   ],
   "source": [
    "print(device)"
   ]
  },
  {
   "cell_type": "markdown",
   "id": "24a318b6-07aa-4039-9554-d456dae3f5e0",
   "metadata": {},
   "source": [
    "# Utils"
   ]
  },
  {
   "cell_type": "code",
   "execution_count": 71,
   "id": "d8ef0e86-d33a-4f55-a0c0-bb6868c5fb4f",
   "metadata": {},
   "outputs": [],
   "source": [
    "class AverageMeter(object):\n",
    "    \"\"\"Computes and stores the average and current value\"\"\"\n",
    "    def __init__(self):\n",
    "        self.reset()\n",
    "\n",
    "    def reset(self):\n",
    "        self.val = 0\n",
    "        self.avg = 0\n",
    "        self.sum = 0\n",
    "        self.count = 0\n",
    "\n",
    "    def update(self, val, n=1):\n",
    "        self.val = val\n",
    "        self.sum += val * n\n",
    "        self.count += n\n",
    "        self.avg = self.sum / self.count"
   ]
  },
  {
   "cell_type": "markdown",
   "id": "28a453e5-bd24-41b7-9b08-3589f1beff41",
   "metadata": {},
   "source": [
    "# Train Loop"
   ]
  },
  {
   "cell_type": "code",
   "execution_count": 72,
   "id": "4f9b6244-e7b9-4b49-9b64-c3a4f40faf4b",
   "metadata": {},
   "outputs": [
    {
     "name": "stdout",
     "output_type": "stream",
     "text": [
      "Epoch:0, Train loss:1.07, Valid loss:0.6546\n",
      "\n",
      "Epoch:10, Train loss:0.4058, Valid loss:0.4367\n",
      "\n",
      "Epoch:20, Train loss:0.3723, Valid loss:0.4038\n",
      "\n",
      "Epoch:30, Train loss:0.353, Valid loss:0.3896\n",
      "\n",
      "Epoch:40, Train loss:0.3398, Valid loss:0.3822\n",
      "\n",
      "Epoch:50, Train loss:0.3319, Valid loss:0.3595\n",
      "\n",
      "Epoch:60, Train loss:0.34, Valid loss:0.3538\n",
      "\n",
      "Epoch:70, Train loss:0.3089, Valid loss:0.3435\n",
      "\n",
      "Epoch:80, Train loss:0.3073, Valid loss:0.335\n",
      "\n",
      "Epoch:90, Train loss:0.3062, Valid loss:0.3342\n",
      "\n",
      "Epoch:100, Train loss:0.2972, Valid loss:0.3356\n",
      "\n",
      "Epoch:110, Train loss:0.3158, Valid loss:0.3156\n",
      "\n",
      "Epoch:120, Train loss:0.2938, Valid loss:0.32\n",
      "\n",
      "Epoch:130, Train loss:0.3089, Valid loss:0.3945\n",
      "\n",
      "Epoch:140, Train loss:0.2784, Valid loss:0.3075\n",
      "\n",
      "Epoch:150, Train loss:0.2991, Valid loss:0.3075\n",
      "\n",
      "Epoch:160, Train loss:0.3007, Valid loss:0.3147\n",
      "\n",
      "Epoch:170, Train loss:0.2908, Valid loss:0.3494\n",
      "\n",
      "Epoch:180, Train loss:0.2773, Valid loss:0.369\n",
      "\n",
      "Epoch:190, Train loss:0.2851, Valid loss:0.3016\n",
      "\n"
     ]
    }
   ],
   "source": [
    "num_epochs = 200\n",
    "reg = reg.to(device)\n",
    "\n",
    "loss_train_hist = []\n",
    "loss_valid_hist = []\n",
    "\n",
    "for epoch in range(num_epochs):\n",
    "    # train\n",
    "    loss_train = AverageMeter()\n",
    "    for i, (inputs, targets) in enumerate(train_loader):\n",
    "        inputs = inputs.to(device)\n",
    "        targets = targets.to(device)\n",
    "        outputs = reg(inputs)\n",
    "        loss = loss_fn(outputs, targets)\n",
    "        loss.backward()\n",
    "        optimizer.step()\n",
    "        optimizer.zero_grad()\n",
    "        loss_train.update(loss.item())\n",
    "\n",
    "    \n",
    "    with torch.no_grad():\n",
    "        # validation\n",
    "        loss_valid = AverageMeter()\n",
    "        for i, (inputs, targets) in enumerate(valid_loader):\n",
    "            inputs = inputs.to(device)\n",
    "            targets = targets.to(device)\n",
    "            outputs = reg(inputs)\n",
    "            loss = loss_fn(outputs, targets)\n",
    "            loss_valid.update(loss.item())\n",
    "    # appending\n",
    "    loss_train_hist.append(loss_train.avg)\n",
    "    loss_valid_hist.append(loss_valid.avg)\n",
    "\n",
    "    if epoch % 10 == 0:\n",
    "        print(f'Epoch:{epoch}, Train loss:{loss_train.avg:.4}, Valid loss:{loss_valid.avg:.4}')\n",
    "        print()"
   ]
  },
  {
   "cell_type": "markdown",
   "id": "a64288c0-ee3f-489e-adcf-4f94d2ed84de",
   "metadata": {},
   "source": [
    "# Learning Curve"
   ]
  },
  {
   "cell_type": "code",
   "execution_count": 73,
   "id": "739b8da2-75a2-41cf-a4e2-589b30ac5a7a",
   "metadata": {},
   "outputs": [
    {
     "data": {
      "text/plain": [
       "<matplotlib.legend.Legend at 0x1920ccebce0>"
      ]
     },
     "execution_count": 73,
     "metadata": {},
     "output_type": "execute_result"
    },
    {
     "data": {
      "image/png": "[encoded data removed]",
      "text/plain": [
       "<Figure size 700x700 with 1 Axes>"
      ]
     },
     "metadata": {},
     "output_type": "display_data"
    }
   ],
   "source": [
    "fig, ax = plt.subplots(figsize=(7, 7))\n",
    "ax.plot(range(num_epochs), loss_train_hist, color='blue', label='Train Loss')\n",
    "ax.plot(range(num_epochs), loss_valid_hist, color='red', label='Valid Loss')\n",
    "\n",
    "ax.set_xlabel('Epoch')\n",
    "ax.set_ylabel('Loss')\n",
    "ax.grid(True)\n",
    "ax.legend()"
   ]
  },
  {
   "cell_type": "markdown",
   "id": "3f3c046b-982f-4170-aacf-e9c3b5e3d400",
   "metadata": {},
   "source": [
    "# Prediction"
   ]
  },
  {
   "cell_type": "code",
   "execution_count": 78,
   "id": "e0d2c0d9-e908-4f39-804d-b9d3e46f962e",
   "metadata": {},
   "outputs": [],
   "source": [
    "r2_score = R2Score()\n",
    "x_test_st = x_test_st.to(device)\n",
    "y_test = y_test.to(device)\n",
    "yp_test = reg(x_test_st)"
   ]
  },
  {
   "cell_type": "code",
   "execution_count": 79,
   "id": "36a00f4d-386f-4e39-a885-20badd44ac08",
   "metadata": {},
   "outputs": [
    {
     "data": {
      "text/plain": [
       "tensor(0.7802, device='cuda:0', grad_fn=<CloneBackward0>)"
      ]
     },
     "execution_count": 79,
     "metadata": {},
     "output_type": "execute_result"
    }
   ],
   "source": [
    "r2_score(yp_test, y_test)"
   ]
  },
  {
   "cell_type": "code",
   "execution_count": null,
   "id": "9520934c-71f3-4c62-97fd-9806cdb506a8",
   "metadata": {},
   "outputs": [],
   "source": []
  }
 ],
 "metadata": {
  "kernelspec": {
   "display_name": "Python 3 (ipykernel)",
   "language": "python",
   "name": "python3"
  },
  "language_info": {
   "codemirror_mode": {
    "name": "ipython",
    "version": 3
   },
   "file_extension": ".py",
   "mimetype": "text/x-python",
   "name": "python",
   "nbconvert_exporter": "python",
   "pygments_lexer": "ipython3",
   "version": "3.12.8"
  }
 },
 "nbformat": 4,
 "nbformat_minor": 5
}
